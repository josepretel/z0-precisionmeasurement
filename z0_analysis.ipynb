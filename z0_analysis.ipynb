{
 "cells": [
  {
   "attachments": {},
   "cell_type": "markdown",
   "metadata": {},
   "source": [
    "## Import the needed Libraries"
   ]
  },
  {
   "cell_type": "code",
   "execution_count": null,
   "metadata": {
    "vscode": {
     "languageId": "python"
    }
   },
   "outputs": [],
   "source": [
    "import uproot\n",
    "import awkward as ak\n",
    "import mplhep\n",
    "%matplotlib inline \n",
    "#%matplotlib widget\n",
    "import numpy as np\n",
    "import matplotlib.pyplot as plt"
   ]
  },
  {
   "attachments": {},
   "cell_type": "markdown",
   "metadata": {},
   "source": [
    "## Load MC simulation data\n",
    "Data is stored in same folder as the nb."
   ]
  },
  {
   "cell_type": "code",
   "execution_count": null,
   "metadata": {
    "vscode": {
     "languageId": "python"
    }
   },
   "outputs": [],
   "source": [
    "### Open the files \n",
    "file_ee = uproot.open('ee.root')\n",
    "ttree_name_ee = 'myTTree'\n",
    "\n",
    "file_mm = uproot.open('mm.root')\n",
    "ttree_name_mm = 'myTTree'\n",
    "\n",
    "file_qq = uproot.open('qq.root')\n",
    "ttree_name_qq = 'myTTree'\n",
    "\n",
    "file_tt = uproot.open('tt.root')\n",
    "ttree_name_tt = 'myTTree'\n",
    "\n",
    "### Print list of 'branches' of the TTree (i.e. list of variable names)\n",
    "print('list of parameters ee:')\n",
    "print('ee',file_ee[ttree_name_ee].keys())\n",
    "print()\n",
    "print('mm', file_mm[ttree_name_mm].keys())\n",
    "print()\n",
    "print('qq', file_qq[ttree_name_qq].keys())\n",
    "print()\n",
    "print('tt', file_tt[ttree_name_tt].keys())\n",
    "print('________________________________________')\n",
    "\n",
    "## Load branches\n",
    "branches_ee = file_ee[ttree_name_ee].arrays()\n",
    "branches_mm = file_mm[ttree_name_mm].arrays()\n",
    "branches_qq = file_qq[ttree_name_qq].arrays()\n",
    "branches_tt = file_tt[ttree_name_tt].arrays()\n",
    "\n",
    "## Define an numpy array for 'Pcharged' for the 4 channels\n",
    "var_Pcharged = 'Pcharged'\n",
    "pchar_ee = ak.to_numpy(branches_ee[var_Pcharged]) # See Docu (https://awkward-array.org/how-to-convert-numpy.html) for more conversions\n",
    "pchar_mm = ak.to_numpy(branches_mm[var_Pcharged])\n",
    "pchar_qq = ak.to_numpy(branches_qq[var_Pcharged])\n",
    "pchar_tt = ak.to_numpy(branches_tt[var_Pcharged])\n",
    "\n",
    "\n",
    "print(f\"\\n\\nArrays of type '{type(pchar_ee)}' defined for '{var_Pcharged}':\\n\\nee {pchar_ee} min: {pchar_ee.min()}, max: {pchar_ee.max()}\")\n",
    "print(f'mm {pchar_mm} min: {pchar_mm.min()}, max: {pchar_mm.max()}')\n",
    "print(f'qq {pchar_qq} min: {pchar_qq.min()}, max: {pchar_qq.max()}')\n",
    "print(f'tt {pchar_tt} min: {pchar_tt.min()}, max: {pchar_tt.max()}')\n",
    "print()\n",
    "\n",
    "## Define an numpy array for 'Ncharged' for the 4 channels\n",
    "var_Ncharged = 'Ncharged'\n",
    "nchar_ee = ak.to_numpy(branches_ee[var_Ncharged]) # See Docu (https://awkward-array.org/how-to-convert-numpy.html) for more conversions\n",
    "nchar_mm = ak.to_numpy(branches_mm[var_Ncharged])\n",
    "nchar_qq = ak.to_numpy(branches_qq[var_Ncharged])\n",
    "nchar_tt = ak.to_numpy(branches_tt[var_Ncharged])\n",
    "\n",
    "\n",
    "print(f\"\\n\\nArrays of type '{type(nchar_ee)}' defined for '{var_Ncharged}':\\n\")\n",
    "print(f\"ee {nchar_ee} min: {nchar_ee.min()}, max: {nchar_ee.max()}\")\n",
    "print(f'mm {nchar_mm} min: {nchar_mm.min()}, max: {nchar_mm.max()}')\n",
    "print(f'qq {nchar_qq} min: {nchar_qq.min()}, max: {nchar_qq.max()}')\n",
    "print(f'tt {nchar_tt} min: {nchar_tt.min()}, max: {nchar_tt.max()}')\n",
    "print()\n",
    "\n",
    "## Define an numpy array for 'E_ecal' for the 4 channels\n",
    "var_E_ecal = 'E_ecal'\n",
    "E_ecal_ee = ak.to_numpy(branches_ee[var_E_ecal]) # See Docu (https://awkward-array.org/how-to-convert-numpy.html) for more conversions\n",
    "E_ecal_mm = ak.to_numpy(branches_mm[var_E_ecal])\n",
    "E_ecal_qq = ak.to_numpy(branches_qq[var_E_ecal])\n",
    "E_ecal_tt = ak.to_numpy(branches_tt[var_E_ecal])\n",
    "\n",
    "\n",
    "print(f\"\\n\\nArrays of type '{type(E_ecal_ee)}' defined for '{var_E_ecal}':\\n\")\n",
    "print(f\"ee {E_ecal_ee} min: {E_ecal_ee.min()}, max: {E_ecal_ee.max()}\")\n",
    "print(f'mm {E_ecal_mm} min: {E_ecal_mm.min()}, max: {E_ecal_mm.max()}')\n",
    "print(f'qq {E_ecal_qq} min: {E_ecal_qq.min()}, max: {E_ecal_qq.max()}')\n",
    "print(f'tt {E_ecal_tt} min: {E_ecal_tt.min()}, max: {E_ecal_tt.max()}')\n",
    "print()\n",
    "\n",
    "## Define an numpy array for 'E_hcal' for the 4 channels\n",
    "var_E_hcal = 'E_hcal'\n",
    "E_hcal_ee = ak.to_numpy(branches_ee[var_E_hcal]) # See Docu (https://awkward-array.org/how-to-convert-numpy.html) for more conversions\n",
    "E_hcal_mm = ak.to_numpy(branches_mm[var_E_hcal])\n",
    "E_hcal_qq = ak.to_numpy(branches_qq[var_E_hcal])\n",
    "E_hcal_tt = ak.to_numpy(branches_tt[var_E_hcal])\n",
    "\n",
    "\n",
    "print(f\"\\n\\nArrays of type '{type(E_hcal_ee)}' defined for '{var_E_hcal}':\\n\")\n",
    "print(f\"ee {E_hcal_ee} min: {E_hcal_ee.min()}, max: {E_hcal_ee.max()}\")\n",
    "print(f'mm {E_hcal_mm} min: {E_hcal_mm.min()}, max: {E_hcal_mm.max()}')\n",
    "print(f'qq {E_hcal_qq} min: {E_hcal_qq.min()}, max: {E_hcal_qq.max()}')\n",
    "print(f'tt {E_hcal_tt} min: {E_hcal_tt.min()}, max: {E_hcal_tt.max()}')\n",
    "print()\n",
    "\n",
    "## Define an numpy array for 'cos_thet' for the 4 channels\n",
    "var_cos_thet = 'cos_thet'\n",
    "cos_thet_ee = ak.to_numpy(branches_ee[var_cos_thet]) # See Docu (https://awkward-array.org/how-to-convert-numpy.html) for more conversions\n",
    "cos_thet_mm = ak.to_numpy(branches_mm[var_cos_thet])\n",
    "cos_thet_qq = ak.to_numpy(branches_qq[var_cos_thet])\n",
    "cos_thet_tt = ak.to_numpy(branches_tt[var_cos_thet])\n",
    "\n",
    "\n",
    "print(f\"\\n\\nArrays of type '{type(cos_thet_ee)}' defined for '{cos_thet_ee}':\\n\")\n",
    "print(f\"ee {cos_thet_ee} min: {cos_thet_ee.min()}, max: {cos_thet_ee.max()}\")\n",
    "print(f'mm {cos_thet_mm} min: {cos_thet_mm.min()}, max: {cos_thet_mm.max()}')\n",
    "print(f'qq {cos_thet_qq} min: {cos_thet_qq.min()}, max: {cos_thet_qq.max()}')\n",
    "print(f'tt {cos_thet_tt} min: {cos_thet_tt.min()}, max: {cos_thet_tt.max()}')\n",
    "print()\n",
    "\n",
    "## Define an numpy array for 'cos_thru' for the 4 channels\n",
    "var_cos_thru = 'cos_thru'\n",
    "cos_thru_ee = ak.to_numpy(branches_ee[var_cos_thru]) # See Docu (https://awkward-array.org/how-to-convert-numpy.html) for more conversions\n",
    "cos_thru_mm = ak.to_numpy(branches_mm[var_cos_thru])\n",
    "cos_thru_qq = ak.to_numpy(branches_qq[var_cos_thru])\n",
    "cos_thru_tt = ak.to_numpy(branches_tt[var_cos_thru])\n",
    "\n",
    "\n",
    "print(f\"\\n\\nArrays of type '{type(cos_thru_ee)}' defined for '{cos_thet_ee}':\\n\")\n",
    "print(f\"ee {cos_thru_ee} min: {cos_thru_ee.min()}, max: {cos_thru_ee.max()}\")\n",
    "print(f'mm {cos_thru_mm} min: {cos_thru_mm.min()}, max: {cos_thru_mm.max()}')\n",
    "print(f'qq {cos_thru_qq} min: {cos_thru_qq.min()}, max: {cos_thru_qq.max()}')\n",
    "print(f'tt {cos_thru_tt} min: {cos_thru_tt.min()}, max: {cos_thru_tt.max()}')\n",
    "print()\n",
    "\n",
    "## Define an numpy array for 'E_lep' for the 4 channels\n",
    "var_E_lep = 'E_lep'\n",
    "E_lep_ee = ak.to_numpy(branches_ee[var_E_lep]) # See Docu (https://awkward-array.org/how-to-convert-numpy.html) for more conversions\n",
    "E_lep_mm = ak.to_numpy(branches_mm[var_E_lep])\n",
    "E_lep_qq = ak.to_numpy(branches_qq[var_E_lep])\n",
    "E_lep_tt = ak.to_numpy(branches_tt[var_E_lep])\n",
    "\n",
    "\n",
    "print(f\"\\n\\nArrays of type '{type(cos_thru_ee)}' defined for '{cos_thet_ee}':\\n\")\n",
    "print(f\"ee {E_lep_ee} min: {E_lep_ee.min()}, max: {E_lep_ee.max()}\")\n",
    "print(f'mm {E_lep_mm} min: {E_lep_mm.min()}, max: {E_lep_mm.max()}')\n",
    "print(f'qq {E_lep_qq} min: {E_lep_qq.min()}, max: {E_lep_qq.max()}')\n",
    "print(f'tt {E_lep_tt} min: {E_lep_tt.min()}, max: {E_lep_tt.max()}')\n",
    "print()"
   ]
  },
  {
   "attachments": {},
   "cell_type": "markdown",
   "metadata": {},
   "source": [
    "## Plot the data to find where to cut"
   ]
  },
  {
   "cell_type": "code",
   "execution_count": null,
   "metadata": {
    "vscode": {
     "languageId": "python"
    }
   },
   "outputs": [],
   "source": [
    "bins_pchar = np.linspace(0, 150, 151)\n",
    "\n",
    "plt.style.use(mplhep.style.ATLAS) # You can load ATLAS/CMS/ALICE plot style \n",
    "plt.figure(figsize=(7,5))\n",
    "\n",
    "#bin_content_ee, bin_edges_ee, _ = plt.hist(pchar_ee,bins=bins_pchar, histtype='step',  linewidth=2, edgecolor='b', hatch='/', label='Pcharged')\n",
    "#mid_ee = 0.5*(bin_edges_ee[1:] + bin_edges_ee[:-1]) #Calculate midpoint of the bars\n",
    "\n",
    "#bin_content_mm, bin_edges_mm, _ = plt.hist(pchar_mm,bins=bins_pchar, histtype='step',  linewidth=2, edgecolor='r', hatch='o', label='Pcharged')\n",
    "#mid_mm = 0.5*(bin_edges_mm[1:] + bin_edges_mm[:-1]) #Calculate midpoint of the bars\n",
    "\n",
    "bin_content_qq, bin_edges_qq, _ = plt.hist(pchar_qq,bins=bins_pchar, histtype='step',  linewidth=2, edgecolor='green', hatch='x', label='Pcharged')\n",
    "mid_qq = 0.5*(bin_edges_qq[1:] + bin_edges_qq[:-1]) #Calculate midpoint of the bars\n",
    "\n",
    "#bin_content_tt, bin_edges_tt, _ = plt.hist(pchar_tt,bins=bins_pchar, histtype='step',  linewidth=2, edgecolor='orange', hatch='-', label='Pcharged')\n",
    "#mid_tt = 0.5*(bin_edges_tt[1:] + bin_edges_tt[:-1]) #Calculate midpoint of the bars\n",
    "\n",
    "\n",
    "#error_sizes = np.sqrt(bin_content)\n",
    "\n",
    "#plt.errorbar(mid, bin_content, yerr=error_sizes, fmt='none')\n",
    "### When producing an histogram, you can store the bin content and the edges of the bins in \n",
    "###'bin_content', and 'bin_edges' \n",
    "#print(bin_content)\n",
    "#print(bin_edges)\n",
    "\n",
    "### Show the plot on screen\n",
    "plt.title('My title')\n",
    "plt.xlim(0,150)\n",
    "plt.ylim(0,2*10**3)\n",
    "#plt.yscale('log')\n",
    "#plt.xscale('log')\n",
    "plt.xlabel('Total scalar sum of track momenta, $p_{track}$')\n",
    "plt.ylabel('Number of events')\n",
    "plt.show()\n"
   ]
  },
  {
   "cell_type": "code",
   "execution_count": null,
   "metadata": {
    "vscode": {
     "languageId": "python"
    }
   },
   "outputs": [],
   "source": [
    "\n",
    "bins_nchar = np.linspace(0,39, 40)\n",
    "\n",
    "plt.style.use(mplhep.style.ATLAS) # You can load ATLAS/CMS/ALICE plot style \n",
    "plt.figure(figsize=(7,5))\n",
    "\n",
    "\n",
    "#bin_content_ee, bin_edges_ee, _ = plt.hist(nchar_ee,bins=bins_nchar, histtype='step',  linewidth=2, edgecolor='b', hatch='/', label='Pcharged')\n",
    "#mid_ee = 0.5*(bin_edges_ee[1:] + bin_edges_ee[:-1]) #Calculate midpoint of the bars\n",
    "\n",
    "#bin_content_mm, bin_edges_mm, _ = plt.hist(nchar_mm,bins=bins_nchar, histtype='step',  linewidth=2, edgecolor='r', hatch='o', label='Pcharged')\n",
    "#mid_mm = 0.5*(bin_edges_mm[1:] + bin_edges_mm[:-1]) #Calculate midpoint of the bars\n",
    "\n",
    "#bin_content_qq, bin_edges_qq, _ = plt.hist(nchar_qq,bins=bins_nchar, histtype='step',  linewidth=2, edgecolor='green', hatch='x', label='Pcharged')\n",
    "#mid_qq = 0.5*(bin_edges_qq[1:] + bin_edges_qq[:-1]) #Calculate midpoint of the bars\n",
    "\n",
    "bin_content_tt, bin_edges_tt, _ = plt.hist(nchar_tt,bins=bins_nchar, histtype='step',  linewidth=2, edgecolor='orange', hatch='-', label='Pcharged')\n",
    "mid_tt = 0.5*(bin_edges_tt[1:] + bin_edges_tt[:-1]) #Calculate midpoint of the bars\n",
    "\n",
    "\n",
    "#error_sizes = np.sqrt(bin_content)\n",
    "\n",
    "#plt.errorbar(mid, bin_content, yerr=error_sizes, fmt='none')\n",
    "### When producing an histogram, you can store the bin content and the edges of the bins in \n",
    "###'bin_content', and 'bin_edges' \n",
    "#print(bin_content)\n",
    "#print(bin_edges)\n",
    "\n",
    "### Show the plot on screen\n",
    "plt.title('My title')\n",
    "#plt.xlim(10.,150.)\n",
    "#plt.yscale('log')\n",
    "#plt.xscale('log')\n",
    "plt.xlim(0,42)\n",
    "plt.xlabel('Total scalar sum of track momenta, $n_{track}$')\n",
    "plt.ylabel('Number of events')\n",
    "plt.show()"
   ]
  },
  {
   "cell_type": "code",
   "execution_count": null,
   "metadata": {
    "vscode": {
     "languageId": "python"
    }
   },
   "outputs": [],
   "source": [
    "plt.style.use(mplhep.style.ATLAS) # You can load ATLAS/CMS/ALICE plot style \n",
    "plt.figure(figsize=(7,5))\n",
    "\n",
    "#bin_content_ee, bin_edges_ee, _ = plt.hist(E_ecal_ee,bins=100, histtype='step',  linewidth=2, edgecolor='b', hatch='/', label='Pcharged')\n",
    "#mid_ee = 0.5*(bin_edges_ee[1:] + bin_edges_ee[:-1]) #Calculate midpoint of the bars\n",
    "\n",
    "#bin_content_mm, bin_edges_mm, _ = plt.hist(E_ecal_mm,bins=100, histtype='step',  linewidth=2, edgecolor='r', hatch='o', label='Pcharged')\n",
    "#mid_mm = 0.5*(bin_edges_mm[1:] + bin_edges_mm[:-1]) #Calculate midpoint of the bars\n",
    "\n",
    "#bin_content_qq, bin_edges_qq, _ = plt.hist(E_ecal_qq,bins=100, histtype='step',  linewidth=2, edgecolor='green', hatch='x', label='Pcharged')\n",
    "#mid_qq = 0.5*(bin_edges_qq[1:] + bin_edges_qq[:-1]) #Calculate midpoint of the bars\n",
    "\n",
    "bin_content_tt, bin_edges_tt, _ = plt.hist(E_ecal_tt,bins=100, histtype='step',  linewidth=2, edgecolor='orange', hatch='-', label='Pcharged')\n",
    "mid_tt = 0.5*(bin_edges_tt[1:] + bin_edges_tt[:-1]) #Calculate midpoint of the bars\n",
    "\n",
    "\n",
    "#error_sizes = np.sqrt(bin_content)\n",
    "\n",
    "#plt.errorbar(mid, bin_content, yerr=error_sizes, fmt='none')\n",
    "### When producing an histogram, you can store the bin content and the edges of the bins in \n",
    "###'bin_content', and 'bin_edges' \n",
    "#print(bin_content)\n",
    "#print(bin_edges)\n",
    "\n",
    "### Show the plot on screen\n",
    "plt.title('My title')\n",
    "#plt.xlim(10.,150.)\n",
    "plt.ylim(0,2*10**3)\n",
    "\n",
    "#plt.yscale('log')\n",
    "#plt.xscale('log')\n",
    "plt.xlabel('Total scalar sum of track momenta, $E_{ecal}$')\n",
    "plt.ylabel('Number of events')\n",
    "plt.show()"
   ]
  },
  {
   "cell_type": "code",
   "execution_count": null,
   "metadata": {
    "vscode": {
     "languageId": "python"
    }
   },
   "outputs": [],
   "source": [
    "bins_Ehcal = np.linspace(0, 120, 242)\n",
    "\n",
    "\n",
    "plt.style.use(mplhep.style.ATLAS) # You can load ATLAS/CMS/ALICE plot style \n",
    "plt.figure(figsize=(7,5))\n",
    "\n",
    "#bin_content_ee, bin_edges_ee, _ = plt.hist(E_hcal_ee,bins=bins_Ehcal, histtype='step',  linewidth=2, edgecolor='b', hatch='/', label='Pcharged')\n",
    "#mid_ee = 0.5*(bin_edges_ee[1:] + bin_edges_ee[:-1]) #Calculate midpoint of the bars\n",
    "\n",
    "bin_content_mm, bin_edges_mm, _ = plt.hist(E_hcal_mm,bins=bins_Ehcal, histtype='step',  linewidth=2, edgecolor='r', hatch='o', label='Pcharged')\n",
    "mid_mm = 0.5*(bin_edges_mm[1:] + bin_edges_mm[:-1]) #Calculate midpoint of the bars\n",
    "\n",
    "#bin_content_qq, bin_edges_qq, _ = plt.hist(E_hcal_qq,bins=bins_Ehcal, histtype='step',  linewidth=2, edgecolor='green', hatch='x', label='Pcharged')\n",
    "#mid_qq = 0.5*(bin_edges_qq[1:] + bin_edges_qq[:-1]) #Calculate midpoint of the bars\n",
    "\n",
    "bin_content_tt, bin_edges_tt, _ = plt.hist(E_hcal_tt,bins=bins_Ehcal, histtype='step',  linewidth=2, edgecolor='orange', hatch='-', label='Pcharged')\n",
    "mid_tt = 0.5*(bin_edges_tt[1:] + bin_edges_tt[:-1]) #Calculate midpoint of the bars\n",
    "\n",
    "\n",
    "#error_sizes = np.sqrt(bin_content)\n",
    "\n",
    "#plt.errorbar(mid, bin_content, yerr=error_sizes, fmt='none')\n",
    "### When producing an histogram, you can store the bin content and the edges of the bins in \n",
    "###'bin_content', and 'bin_edges' \n",
    "#print(bin_content)\n",
    "#print(bin_edges)\n",
    "\n",
    "### Show the plot on screen\n",
    "plt.title('My title')\n",
    "#plt.xlim(10.,150.)\n",
    "plt.ylim(0, 2*10**3)\n",
    "#plt.yscale('log')\n",
    "#plt.xscale('log')\n",
    "plt.xlabel('Total scalar sum of track momenta, $E_{hcal}$')\n",
    "plt.ylabel('Number of events')\n",
    "plt.show()"
   ]
  },
  {
   "cell_type": "code",
   "execution_count": null,
   "metadata": {
    "vscode": {
     "languageId": "python"
    }
   },
   "outputs": [],
   "source": [
    "bins_cos_thru = np.linspace(0, 120, 242)\n",
    "\n",
    "\n",
    "plt.style.use(mplhep.style.ATLAS) # You can load ATLAS/CMS/ALICE plot style \n",
    "plt.figure(figsize=(7,5))\n",
    "\n",
    "#bin_content_ee, bin_edges_ee, _ = plt.hist(cos_thru_ee,bins=bins_Ehcal, histtype='step',  linewidth=2, edgecolor='b', hatch='/', label='Pcharged')\n",
    "#mid_ee = 0.5*(bin_edges_ee[1:] + bin_edges_ee[:-1]) #Calculate midpoint of the bars\n",
    "\n",
    "bin_content_mm, bin_edges_mm, _ = plt.hist(cos_thru_mm,bins=bins_Ehcal, histtype='step',  linewidth=2, edgecolor='r', hatch='o', label='Pcharged')\n",
    "mid_mm = 0.5*(bin_edges_mm[1:] + bin_edges_mm[:-1]) #Calculate midpoint of the bars\n",
    "\n",
    "#bin_content_qq, bin_edges_qq, _ = plt.hist(cos_thru_qq,bins=bins_Ehcal, histtype='step',  linewidth=2, edgecolor='green', hatch='x', label='Pcharged')\n",
    "#mid_qq = 0.5*(bin_edges_qq[1:] + bin_edges_qq[:-1]) #Calculate midpoint of the bars\n",
    "\n",
    "bin_content_tt, bin_edges_tt, _ = plt.hist(cos_thru_tt,bins=bins_Ehcal, histtype='step',  linewidth=2, edgecolor='orange', hatch='-', label='Pcharged')\n",
    "mid_tt = 0.5*(bin_edges_tt[1:] + bin_edges_tt[:-1]) #Calculate midpoint of the bars\n",
    "\n",
    "\n",
    "#error_sizes = np.sqrt(bin_content)\n",
    "\n",
    "#plt.errorbar(mid, bin_content, yerr=error_sizes, fmt='none')\n",
    "### When producing an histogram, you can store the bin content and the edges of the bins in \n",
    "###'bin_content', and 'bin_edges' \n",
    "#print(bin_content)\n",
    "#print(bin_edges)\n",
    "\n",
    "### Show the plot on screen\n",
    "plt.title('My title')\n",
    "#plt.xlim(10.,150.)\n",
    "#plt.yscale('log')\n",
    "#plt.xscale('log')\n",
    "plt.xlabel('Total scalar sum of track momenta, $Cos_{thru}$')\n",
    "plt.ylabel('Number of events')\n",
    "plt.show()"
   ]
  },
  {
   "cell_type": "code",
   "execution_count": null,
   "metadata": {
    "vscode": {
     "languageId": "python"
    }
   },
   "outputs": [],
   "source": [
    "bins_Ehcal = np.linspace(0, 1, 242)\n",
    "\n",
    "\n",
    "plt.style.use(mplhep.style.ATLAS) # You can load ATLAS/CMS/ALICE plot style \n",
    "plt.figure(figsize=(7,5))\n",
    "\n",
    "bin_content_ee, bin_edges_ee, _ = plt.hist(cos_thet_ee,bins=bins_Ehcal, histtype='step',  linewidth=2, edgecolor='b', hatch='/', label='Pcharged')\n",
    "mid_ee = 0.5*(bin_edges_ee[1:] + bin_edges_ee[:-1]) #Calculate midpoint of the bars\n",
    "\n",
    "bin_content_mm, bin_edges_mm, _ = plt.hist(cos_thet_mm,bins=bins_Ehcal, histtype='step',  linewidth=2, edgecolor='r', hatch='o', label='Pcharged')\n",
    "mid_mm = 0.5*(bin_edges_mm[1:] + bin_edges_mm[:-1]) #Calculate midpoint of the bars\n",
    "\n",
    "bin_content_qq, bin_edges_qq, _ = plt.hist(cos_thet_qq,bins=bins_Ehcal, histtype='step',  linewidth=2, edgecolor='green', hatch='x', label='Pcharged')\n",
    "mid_qq = 0.5*(bin_edges_qq[1:] + bin_edges_qq[:-1]) #Calculate midpoint of the bars\n",
    "\n",
    "bin_content_tt, bin_edges_tt, _ = plt.hist(cos_thet_tt,bins=bins_Ehcal, histtype='step',  linewidth=2, edgecolor='orange', hatch='-', label='Pcharged')\n",
    "mid_tt = 0.5*(bin_edges_tt[1:] + bin_edges_tt[:-1]) #Calculate midpoint of the bars\n",
    "\n",
    "\n",
    "#error_sizes = np.sqrt(bin_content)\n",
    "\n",
    "#plt.errorbar(mid, bin_content, yerr=error_sizes, fmt='none')\n",
    "### When producing an histogram, you can store the bin content and the edges of the bins in \n",
    "###'bin_content', and 'bin_edges' \n",
    "#print(bin_content)\n",
    "#print(bin_edges)\n",
    "\n",
    "### Show the plot on screen\n",
    "plt.title('My title')\n",
    "#plt.xlim(10.,150.)\n",
    "#plt.yscale('log')\n",
    "#plt.xscale('log')\n",
    "plt.xlabel('Total scalar sum of track momenta, $cos_{thet}$')\n",
    "plt.ylabel('Number of events')\n",
    "plt.show()"
   ]
  },
  {
   "cell_type": "code",
   "execution_count": null,
   "metadata": {
    "vscode": {
     "languageId": "python"
    }
   },
   "outputs": [],
   "source": [
    "nt, yerr=error_sizes, fmt='none')\n",
    "### When producing an histogram, you can store the bin content and the edges of the bins in \n",
    "###'bin_content', and 'bin_edges' \n",
    "#print(bin_content)\n",
    "#print(bin_edges)\n",
    "\n",
    "### Show the plot on screen\n",
    "plt.title('My title')\n",
    "#plt.xlim(10.,150.)\n",
    "#plt.yscale('log')\n",
    "#plt.xscale('log')\n",
    "plt.xlabel('Total scalar sum of track momenta, $E_{hcal}$')\n",
    "plt.ylabel('Number of events')\n",
    "plt.show()"
   ]
  },
  {
   "cell_type": "code",
   "execution_count": null,
   "metadata": {
    "vscode": {
     "languageId": "python"
    }
   },
   "outputs": [],
   "source": [
    "\n",
    "ee_mask_ee = E_ecal_ee >= 77 \n",
    "ee_mask_mm = E_ecal_mm >= 77\n",
    "ee_mask_qq = E_ecal_qq >= 77\n",
    "ee_mask_tt = E_ecal_tt >= 77\n",
    "#print(branches_mm['E_ecal'][ee_mask])\n",
    "plt.hist(E_ecal_ee[ee_mask_ee])\n",
    "plt.hist(E_ecal_mm[ee_mask_mm])\n",
    "plt.hist(E_ecal_qq[ee_mask_qq])\n",
    "plt.hist(E_ecal_tt[ee_mask_tt])\n",
    "plt.show()"
   ]
  },
  {
   "cell_type": "code",
   "execution_count": null,
   "metadata": {
    "vscode": {
     "languageId": "python"
    }
   },
   "outputs": [],
   "source": [
    "plt.plot(E_ecal_ee, E_hcal_ee, '.', color= 'b', markersize=0.1)\n",
    "plt.plot(E_ecal_mm, E_hcal_mm, '.', color= 'r', markersize=0.1)\n",
    "#plt.plot(E_ecal_qq, E_hcal_qq, '.', color= 'green', markersize=0.1)\n",
    "plt.plot(E_ecal_tt, E_hcal_tt, '.', color= 'orange', markersize=0.1)\n",
    "plt.xlim(0,110)\n",
    "plt.ylim(0,100)"
   ]
  },
  {
   "cell_type": "code",
   "execution_count": null,
   "metadata": {
    "vscode": {
     "languageId": "python"
    }
   },
   "outputs": [],
   "source": [
    "plt.plot(nchar_ee, pchar_ee, '.', color= 'b', markersize=0.1)\n",
    "plt.plot(nchar_mm, pchar_mm, '.', color= 'r', markersize=0.1)\n",
    "plt.plot(nchar_qq, pchar_qq, '.', color= 'green', markersize=0.1)\n",
    "plt.plot(nchar_tt, pchar_tt, '.', color= 'orange', markersize=0.1)\n",
    "plt.xlim(0,50)\n",
    "plt.ylim(0,120)"
   ]
  },
  {
   "cell_type": "code",
   "execution_count": null,
   "metadata": {
    "vscode": {
     "languageId": "python"
    }
   },
   "outputs": [],
   "source": [
    "plt.plot(E_ecal_ee, pchar_ee, '.', color= 'b', markersize=0.1)\n",
    "plt.plot(E_ecal_mm, pchar_mm, '.', color= 'r', markersize=0.1)\n",
    "plt.plot(E_ecal_qq, pchar_qq, '.', color= 'green', markersize=0.1)\n",
    "plt.plot(E_ecal_tt, pchar_tt, '.', color= 'orange', markersize=0.1)\n",
    "plt.xlim(0,100)\n",
    "plt.ylim(0,140)"
   ]
  },
  {
   "cell_type": "code",
   "execution_count": null,
   "metadata": {
    "vscode": {
     "languageId": "python"
    }
   },
   "outputs": [],
   "source": [
    "plt.plot(E_hcal_ee, pchar_ee, '.', color= 'b', markersize=0.1)\n",
    "plt.plot(E_hcal_mm, pchar_mm, '.', color= 'r', markersize=0.1)\n",
    "plt.plot(E_hcal_qq, pchar_qq, '.', color= 'green', markersize=0.1)\n",
    "plt.plot(E_hcal_tt, pchar_tt, '.', color= 'orange', markersize=0.1)\n",
    "plt.xlim(0,100)\n",
    "plt.ylim(0,150)"
   ]
  },
  {
   "cell_type": "code",
   "execution_count": null,
   "metadata": {
    "vscode": {
     "languageId": "python"
    }
   },
   "outputs": [],
   "source": [
    "plt.plot(E_hcal_ee, nchar_ee, '.', color= 'b', markersize=0.1)\n",
    "plt.plot(E_hcal_mm, nchar_mm, '.', color= 'r', markersize=0.1)\n",
    "plt.plot(E_hcal_qq, nchar_qq, '.', color= 'green', markersize=0.1)\n",
    "plt.plot(E_hcal_tt, nchar_tt, '.', color= 'orange', markersize=0.1)\n",
    "plt.xlim(0,100)\n",
    "plt.ylim(0,50)"
   ]
  },
  {
   "cell_type": "code",
   "execution_count": null,
   "metadata": {
    "vscode": {
     "languageId": "python"
    }
   },
   "outputs": [],
   "source": [
    "plt.plot(E_ecal_ee, nchar_ee, '.', color= 'b', markersize=0.1)\n",
    "plt.plot(E_ecal_mm, nchar_mm, '.', color= 'r', markersize=0.1)\n",
    "plt.plot(E_ecal_qq, nchar_qq, '.', color= 'green', markersize=0.1)\n",
    "plt.plot(E_ecal_tt, nchar_tt, '.', color= 'orange', markersize=0.1)\n",
    "plt.xlim(0,100)\n",
    "plt.ylim(0,50)"
   ]
  },
  {
   "cell_type": "code",
   "execution_count": null,
   "metadata": {
    "vscode": {
     "languageId": "python"
    }
   },
   "outputs": [],
   "source": [
    "ax = plt.figure().add_subplot(projection='3d')\n",
    "#ax.plot(E_ecal_ee, nchar_ee, E_hcal_ee, '.', color= 'b', markersize=0.1)\n",
    "ax.plot(E_ecal_mm, pchar_mm, E_hcal_mm, '.', color= 'r', markersize=0.5)\n",
    "#ax.plot(E_ecal_qq, nchar_qq, E_hcal_qq, '.', color= 'green', markersize=0.5)\n",
    "ax.plot(E_ecal_tt, pchar_tt, E_hcal_tt, '.', color= 'orange', markersize=0.5)\n",
    "ax.set_xlim(0, 100)\n",
    "ax.set_ylim(0, 150)\n",
    "ax.set_zlim(0, 150)\n",
    "ax.view_init(elev=60., azim=50)"
   ]
  },
  {
   "attachments": {},
   "cell_type": "markdown",
   "metadata": {},
   "source": [
    "## Introduce particle identification system\n",
    "Array with number of events qual to number of entrances \n",
    "\n",
    "Entrances are:\n",
    "* not calssified = 'xx'\n",
    "* electron = 'ee' \n",
    "* myon = 'mm' \n",
    "* hadron = 'qq' \n",
    "* tau = 'tt' \n"
   ]
  },
  {
   "cell_type": "code",
   "execution_count": null,
   "metadata": {
    "vscode": {
     "languageId": "python"
    }
   },
   "outputs": [],
   "source": [
    "def classify_event_in_4CH(Ncharged, Pcharged, E_ecal, E_hcal):\n",
    "    if len(Ncharged)==len(Pcharged)==len(E_ecal)==len(E_hcal):\n",
    "        PI = np.chararray((len(Ncharged),1), itemsize=2)\n",
    "        PI[:] = 'xx'      # create start PI array with all events unclassified\n",
    "        NC = 0      \n",
    "        ee = 0      \n",
    "        qq = 0\n",
    "        mm = 0\n",
    "        tt = 0                 \n",
    "        for i in range(len(Ncharged)):\n",
    "            #print(Ncharged[i])\n",
    "            if (7<= Ncharged[i] <= 50) & (Pcharged[i]<=90) & (30 <= E_ecal[i] <= 85) & (E_hcal[i]<=40): \n",
    "                PI[i] = 'qq'\n",
    "                qq += 1\n",
    "            elif (Ncharged[i] <= 7) & (Pcharged[i]<=110) & (60 <= E_ecal[i] <= 110) & (E_hcal[i]<=10):\n",
    "                PI[i] = 'ee'\n",
    "                ee += 1\n",
    "            elif (2 <= Ncharged[i] <= 5) & (70 <= Pcharged[i]<=110) & (E_ecal[i] < 20) & (E_hcal[i]<=20):\n",
    "                PI[i] = 'mm'\n",
    "                mm += 1\n",
    "            elif (2 <= Ncharged[i] <= 5) & (0 <= Pcharged[i]<=10) & (E_ecal[i] <= 10) & (E_hcal[i]<=20):\n",
    "                PI[i] = 'mm'\n",
    "                mm += 1\n",
    "            elif (1 <= Ncharged[i] <= 11) & (1<Pcharged[i]<=80) & (0 <= E_ecal[i] <= 100) & (E_hcal[i]<=30):\n",
    "                PI[i] = 'tt'\n",
    "                tt += 1\n",
    "            else:\n",
    "                NC += 1\n",
    "\n",
    "        #print(PI)\n",
    "        #print(len(Ncharged),NC, ee, qq, mm, tt)\n",
    "    else:\n",
    "        print('Unequaly long input arrays')\n",
    "    return [[ee, mm, qq, tt, NC, len(Ncharged)], PI]\n",
    "\n"
   ]
  },
  {
   "cell_type": "code",
   "execution_count": null,
   "metadata": {
    "vscode": {
     "languageId": "python"
    }
   },
   "outputs": [],
   "source": [
    "classify_ee = classify_event_in_4CH(nchar_ee, pchar_ee, E_ecal_ee, E_hcal_ee)\n",
    "classify_mm = classify_event_in_4CH(nchar_mm, pchar_mm, E_ecal_mm, E_hcal_mm)\n",
    "classify_qq = classify_event_in_4CH(nchar_qq, pchar_qq, E_ecal_qq, E_hcal_qq)\n",
    "classify_tt = classify_event_in_4CH(nchar_tt, pchar_tt, E_ecal_tt, E_hcal_tt)\n",
    "efficiency_matrix = [[np.round(classify_ee[0][i]/ classify_ee[0][5],4) for i in range(5)],\n",
    "                     [np.round(classify_mm[0][i]/ classify_mm[0][5],4) for i in range(5)],\n",
    "                     [np.round(classify_qq[0][i]/ classify_qq[0][5],4) for i in range(5)],\n",
    "                     [np.round(classify_tt[0][i]/ classify_tt[0][5],4) for i in range(5)]]"
   ]
  },
  {
   "cell_type": "code",
   "execution_count": null,
   "metadata": {
    "vscode": {
     "languageId": "python"
    }
   },
   "outputs": [],
   "source": [
    "efficiency_matrix"
   ]
  },
  {
   "cell_type": "code",
   "execution_count": null,
   "metadata": {
    "vscode": {
     "languageId": "python"
    }
   },
   "outputs": [],
   "source": [
    "efficiency_matrix"
   ]
  },
  {
   "cell_type": "code",
   "execution_count": null,
   "metadata": {
    "vscode": {
     "languageId": "python"
    }
   },
   "outputs": [],
   "source": [
    "error_efficiency_matrix = [[np.round( np.sqrt( classify_ee[0][i] / classify_ee[0][5]**2 + classify_ee[0][i]**2 / classify_ee[0][5]**3) ,4) for i in range(5)],\n",
    "                           [np.round( np.sqrt( classify_mm[0][i] / classify_mm[0][5]**2 + classify_mm[0][i]**2 / classify_mm[0][5]**3) ,4) for i in range(5)],\n",
    "                           [np.round( np.sqrt( classify_qq[0][i] / classify_qq[0][5]**2 + classify_qq[0][i]**2 / classify_qq[0][5]**3) ,4) for i in range(5)],\n",
    "                           [np.round( np.sqrt( classify_tt[0][i] / classify_tt[0][5]**2 + classify_tt[0][i]**2 / classify_tt[0][5]**3) ,4) for i in range(5)]]"
   ]
  },
  {
   "cell_type": "code",
   "execution_count": null,
   "metadata": {
    "vscode": {
     "languageId": "python"
    }
   },
   "outputs": [],
   "source": [
    "error_efficiency_matrix"
   ]
  }
 ],
 "metadata": {
  "kernelspec": {
   "display_name": "Python 3 (ipykernel)",
   "language": "python",
   "name": "python3"
  },
  "orig_nbformat": 4
 },
 "nbformat": 4,
 "nbformat_minor": 2
}
