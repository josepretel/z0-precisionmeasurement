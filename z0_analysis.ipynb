{
 "cells": [
  {
   "attachments": {},
   "cell_type": "markdown",
   "metadata": {},
   "source": [
    "## Import the needed Libraries"
   ]
  },
  {
   "cell_type": "code",
   "execution_count": 1,
   "metadata": {},
   "outputs": [],
   "source": [
    "import uproot\n",
    "import awkward as ak\n",
    "import mplhep\n",
    "%matplotlib inline \n",
    "import numpy as np\n",
    "import matplotlib.pyplot as plt"
   ]
  },
  {
   "attachments": {},
   "cell_type": "markdown",
   "metadata": {},
   "source": [
    "## Load MC simulation data\n",
    "Data is stored in same folder as the nb."
   ]
  },
  {
   "cell_type": "code",
   "execution_count": null,
   "metadata": {},
   "outputs": [],
   "source": [
    "### Open the files \n",
    "file_ee = uproot.open('ee.root')\n",
    "ttree_name_ee = 'myTTree_ee'\n",
    "\n",
    "file_mm = uproot.open('mm.root')\n",
    "ttree_name_mm = 'myTTree_mm'\n",
    "\n",
    "file_qq = uproot.open('qq.root')\n",
    "ttree_name_qq = 'myTTree_qq'\n",
    "\n",
    "file_tt = uproot.open('tt.root')\n",
    "ttree_name_tt = 'myTTree_tt'\n",
    "\n",
    "### Print list of 'branches' of the TTree (i.e. list of variable names)\n",
    "print(file_ee[ttree_name_ee].keys())\n",
    "\n",
    "## Load branches\n",
    "branches_ee = file_ee[ttree_name_ee].arrays()\n",
    "\n",
    "## Define an numpy array for 'Pcharged'\n",
    "var = 'Pcharged'\n",
    "pchar = ak.to_numpy(branches[var]) # See Docu (https://awkward-array.org/how-to-convert-numpy.html) for more conversions\n",
    "\n",
    "print(f\"Array of type '{type(pchar)}' defined for '{var}':\\n{pchar}\")\n",
    "print(pchar.max())"
   ]
  }
 ],
 "metadata": {
  "kernelspec": {
   "display_name": "Python 3 (ipykernel)",
   "language": "python",
   "name": "python3"
  },
  "language_info": {
   "codemirror_mode": {
    "name": "ipython",
    "version": 3
   },
   "file_extension": ".py",
   "mimetype": "text/x-python",
   "name": "python",
   "nbconvert_exporter": "python",
   "pygments_lexer": "ipython3",
   "version": "3.9.7"
  },
  "orig_nbformat": 4
 },
 "nbformat": 4,
 "nbformat_minor": 2
}
